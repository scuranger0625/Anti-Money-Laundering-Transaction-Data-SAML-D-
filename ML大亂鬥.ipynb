{
 "cells": [
  {
   "cell_type": "markdown",
   "id": "59f11445",
   "metadata": {},
   "source": [
    "不加入帳戶資料 僅使用最後20%進行驗證 ML大亂鬥 (時間是基於距離上一筆交易的時間差 而不是距離第一筆的時間差)"
   ]
  },
  {
   "cell_type": "code",
   "execution_count": 1,
   "id": "ebb97a32",
   "metadata": {},
   "outputs": [
    {
     "name": "stdout",
     "output_type": "stream",
     "text": [
      "\n",
      "📊 模型效能與執行時間比較（使用最後 20% 為測試集）：\n",
      "\n",
      "🔹 Logistic Regression\n",
      "   🕒 訓練+預測時間：300.88 秒\n",
      "   📈 AUC          ：0.7632\n",
      "   🎯 Precision    ：0.9989\n",
      "   🎯 Recall       ：1.0000\n",
      "   🧮 F1 Score     ：0.9983\n",
      "\n",
      "🔹 Decision Tree\n",
      "   🕒 訓練+預測時間：298.85 秒\n",
      "   📈 AUC          ：0.3150\n",
      "   🎯 Precision    ：0.9990\n",
      "   🎯 Recall       ：1.0000\n",
      "   🧮 F1 Score     ：0.9985\n",
      "\n",
      "🔹 Random Forest\n",
      "   🕒 訓練+預測時間：1082.97 秒\n",
      "   📈 AUC          ：0.7420\n",
      "   🎯 Precision    ：0.9989\n",
      "   🎯 Recall       ：1.0000\n",
      "   🧮 F1 Score     ：0.9983\n",
      "\n",
      "🔹 SVM (LinearSVC)\n",
      "   🕒 訓練+預測時間：306.73 秒\n",
      "   📈 AUC          ：0.7523\n",
      "   🎯 Precision    ：0.9989\n",
      "   🎯 Recall       ：1.0000\n",
      "   🧮 F1 Score     ：0.9983\n",
      "\n"
     ]
    }
   ],
   "source": [
    "import time\n",
    "from pyspark.sql import SparkSession\n",
    "from pyspark.sql.functions import unix_timestamp, concat_ws, lag, col\n",
    "from pyspark.sql.window import Window\n",
    "from pyspark.ml.feature import StringIndexer, OneHotEncoder, VectorAssembler\n",
    "from pyspark.ml.classification import (\n",
    "    LogisticRegression, DecisionTreeClassifier,\n",
    "    RandomForestClassifier, LinearSVC\n",
    ")\n",
    "from pyspark.ml.evaluation import BinaryClassificationEvaluator, MulticlassClassificationEvaluator\n",
    "from pyspark.ml import Pipeline\n",
    "\n",
    "# 建立 Spark Session\n",
    "spark = SparkSession.builder \\\n",
    "    .appName(\"SAML-D Classifier Comparison with Timing\") \\\n",
    "    .master(\"local[*]\") \\\n",
    "    .config(\"spark.driver.memory\", \"8g\") \\\n",
    "    .config(\"spark.executor.memory\", \"8g\") \\\n",
    "    .config(\"spark.driver.maxResultSize\", \"2g\") \\\n",
    "    .getOrCreate()\n",
    "\n",
    "# 讀取資料\n",
    "file_path = r\"C:\\Users\\Leon\\Desktop\\程式語言資料\\python\\TD-UF\\Anti Money Laundering Transaction Data (SAML-D)\\SAML-D.csv\"\n",
    "df = spark.read.option(\"header\", True).option(\"inferSchema\", True).csv(file_path)\n",
    "\n",
    "# 加入時間欄位與時間差\n",
    "df = df.withColumn(\"datetime\", unix_timestamp(concat_ws(\" \", df[\"Date\"], df[\"Time\"]), \"yyyy-MM-dd HH:mm:ss\"))\n",
    "window_spec = Window.orderBy(\"datetime\")\n",
    "df = df.withColumn(\"prev_time\", lag(\"datetime\", 1).over(window_spec))\n",
    "df = df.withColumn(\"time_diff\", col(\"datetime\") - col(\"prev_time\")).fillna({\"time_diff\": 0})\n",
    "\n",
    "# 類別欄位與向量欄位\n",
    "categorical_cols = [\n",
    "    \"Payment_currency\", \"Received_currency\",\n",
    "    \"Sender_bank_location\", \"Receiver_bank_location\",\n",
    "    \"Payment_type\"\n",
    "]\n",
    "indexers = [StringIndexer(inputCol=c, outputCol=c + \"_idx\", handleInvalid=\"keep\") for c in categorical_cols]\n",
    "encoders = [OneHotEncoder(inputCol=c + \"_idx\", outputCol=c + \"_vec\") for c in categorical_cols]\n",
    "feature_cols = [\"Amount\", \"time_diff\"] + [c + \"_vec\" for c in categorical_cols]\n",
    "assembler = VectorAssembler(inputCols=feature_cols, outputCol=\"features\")\n",
    "\n",
    "# 時間排序切分\n",
    "df_sorted = df.orderBy(\"datetime\")\n",
    "total_count = df_sorted.count()\n",
    "train_count = int(total_count * 0.8)\n",
    "train_data = df_sorted.limit(train_count)\n",
    "test_data = df_sorted.subtract(train_data)\n",
    "\n",
    "# 模型設定\n",
    "models = {\n",
    "    \"Logistic Regression\": LogisticRegression(labelCol=\"Is_laundering\", featuresCol=\"features\"),\n",
    "    \"Decision Tree\": DecisionTreeClassifier(labelCol=\"Is_laundering\", featuresCol=\"features\"),\n",
    "    \"Random Forest\": RandomForestClassifier(labelCol=\"Is_laundering\", featuresCol=\"features\", numTrees=100),\n",
    "    \"SVM (LinearSVC)\": LinearSVC(labelCol=\"Is_laundering\", featuresCol=\"features\")\n",
    "}\n",
    "\n",
    "# 評估器\n",
    "binary_eval = BinaryClassificationEvaluator(labelCol=\"Is_laundering\", metricName=\"areaUnderROC\")\n",
    "precision_eval = MulticlassClassificationEvaluator(labelCol=\"Is_laundering\", predictionCol=\"prediction\", metricName=\"precisionByLabel\")\n",
    "recall_eval = MulticlassClassificationEvaluator(labelCol=\"Is_laundering\", predictionCol=\"prediction\", metricName=\"recallByLabel\")\n",
    "f1_eval = MulticlassClassificationEvaluator(labelCol=\"Is_laundering\", predictionCol=\"prediction\", metricName=\"f1\")\n",
    "\n",
    "# 執行模型與計時\n",
    "print(\"\\n📊 模型效能與執行時間比較（使用最後 20% 為測試集）：\\n\")\n",
    "for name, clf in models.items():\n",
    "    print(f\"🔹 {name}\")\n",
    "    start = time.time()\n",
    "\n",
    "    pipeline = Pipeline(stages=indexers + encoders + [assembler, clf])\n",
    "    model = pipeline.fit(train_data)\n",
    "    predictions = model.transform(test_data)\n",
    "\n",
    "    elapsed = time.time() - start\n",
    "\n",
    "    auc = binary_eval.evaluate(predictions)\n",
    "    precision = precision_eval.evaluate(predictions)\n",
    "    recall = recall_eval.evaluate(predictions)\n",
    "    f1 = f1_eval.evaluate(predictions)\n",
    "\n",
    "    print(f\"   🕒 訓練+預測時間：{elapsed:.2f} 秒\")\n",
    "    print(f\"   📈 AUC          ：{auc:.4f}\")\n",
    "    print(f\"   🎯 Precision    ：{precision:.4f}\")\n",
    "    print(f\"   🎯 Recall       ：{recall:.4f}\")\n",
    "    print(f\"   🧮 F1 Score     ：{f1:.4f}\\n\")\n"
   ]
  },
  {
   "cell_type": "markdown",
   "id": "96e1f7a1",
   "metadata": {},
   "source": [
    "指標\t是否考慮機率\t是否固定 threshold\t適合資料不平衡？\n",
    "Accuracy\t❌ 不看機率\t✅ 固定（通常為0.5）\t❌ 容易誤導\n",
    "AUC\t✅ 看機率排序\t❌ 不固定\t✅ 穩定\n",
    "\n",
    "使用AUC可以避免使用Accuracy導致的預測不是洗錢而變成99%的問題"
   ]
  },
  {
   "cell_type": "markdown",
   "id": "fd27260d",
   "metadata": {},
   "source": [
    "指標\t意義\t與誤殺（誤判正常為洗錢）有關嗎？\n",
    "AUC\t整體排序能力，無論門檻\t❌ 不直接告訴你誤殺率，但好的 AUC 通常會帶來好的 precision\n",
    "Precision\t預測為洗錢中，真的洗錢的比例\t✅ 直接反映「誤殺多不多」\n",
    "Recall\t所有洗錢中，模型抓到幾個\t✅ 越高越能發現詐欺，但可能會犧牲 precision（造成誤殺）\n",
    "F1 Score\tPrecision + Recall 的平衡\t✅ 綜合表現好壞的重要指標"
   ]
  },
  {
   "cell_type": "markdown",
   "id": "705be3d9",
   "metadata": {},
   "source": [
    "等等考慮使用多模態+ML大亂鬥"
   ]
  }
 ],
 "metadata": {
  "kernelspec": {
   "display_name": "Python 3",
   "language": "python",
   "name": "python3"
  },
  "language_info": {
   "codemirror_mode": {
    "name": "ipython",
    "version": 3
   },
   "file_extension": ".py",
   "mimetype": "text/x-python",
   "name": "python",
   "nbconvert_exporter": "python",
   "pygments_lexer": "ipython3",
   "version": "3.10.0"
  }
 },
 "nbformat": 4,
 "nbformat_minor": 5
}
