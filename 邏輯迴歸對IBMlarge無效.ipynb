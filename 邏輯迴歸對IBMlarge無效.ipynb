{
  "nbformat": 4,
  "nbformat_minor": 0,
  "metadata": {
    "colab": {
      "provenance": [],
      "gpuType": "T4"
    },
    "kernelspec": {
      "name": "python3",
      "display_name": "Python 3"
    },
    "language_info": {
      "name": "python"
    },
    "accelerator": "GPU"
  },
  "cells": [
    {
      "cell_type": "code",
      "execution_count": 1,
      "metadata": {
        "colab": {
          "base_uri": "https://localhost:8080/"
        },
        "id": "1_UHC_CopZed",
        "outputId": "86dcb561-95cf-4f75-b1da-6e3eb3d43862"
      },
      "outputs": [
        {
          "output_type": "stream",
          "name": "stdout",
          "text": [
            "Requirement already satisfied: pyspark in /usr/local/lib/python3.11/dist-packages (3.5.1)\n",
            "Requirement already satisfied: matplotlib in /usr/local/lib/python3.11/dist-packages (3.10.0)\n",
            "Requirement already satisfied: tqdm in /usr/local/lib/python3.11/dist-packages (4.67.1)\n",
            "Requirement already satisfied: tabulate in /usr/local/lib/python3.11/dist-packages (0.9.0)\n",
            "Requirement already satisfied: py4j==0.10.9.7 in /usr/local/lib/python3.11/dist-packages (from pyspark) (0.10.9.7)\n",
            "Requirement already satisfied: contourpy>=1.0.1 in /usr/local/lib/python3.11/dist-packages (from matplotlib) (1.3.2)\n",
            "Requirement already satisfied: cycler>=0.10 in /usr/local/lib/python3.11/dist-packages (from matplotlib) (0.12.1)\n",
            "Requirement already satisfied: fonttools>=4.22.0 in /usr/local/lib/python3.11/dist-packages (from matplotlib) (4.58.4)\n",
            "Requirement already satisfied: kiwisolver>=1.3.1 in /usr/local/lib/python3.11/dist-packages (from matplotlib) (1.4.8)\n",
            "Requirement already satisfied: numpy>=1.23 in /usr/local/lib/python3.11/dist-packages (from matplotlib) (2.0.2)\n",
            "Requirement already satisfied: packaging>=20.0 in /usr/local/lib/python3.11/dist-packages (from matplotlib) (24.2)\n",
            "Requirement already satisfied: pillow>=8 in /usr/local/lib/python3.11/dist-packages (from matplotlib) (11.2.1)\n",
            "Requirement already satisfied: pyparsing>=2.3.1 in /usr/local/lib/python3.11/dist-packages (from matplotlib) (3.2.3)\n",
            "Requirement already satisfied: python-dateutil>=2.7 in /usr/local/lib/python3.11/dist-packages (from matplotlib) (2.9.0.post0)\n",
            "Requirement already satisfied: six>=1.5 in /usr/local/lib/python3.11/dist-packages (from python-dateutil>=2.7->matplotlib) (1.17.0)\n"
          ]
        }
      ],
      "source": [
        "!pip install pyspark matplotlib tqdm tabulate\n"
      ]
    },
    {
      "cell_type": "code",
      "source": [
        "import torch\n",
        "print(\"💻 使用裝置：\", torch.device(\"cuda\" if torch.cuda.is_available() else \"cpu\"))\n"
      ],
      "metadata": {
        "colab": {
          "base_uri": "https://localhost:8080/"
        },
        "id": "qjuELfQCEr3x",
        "outputId": "6c802107-be8a-4ee1-9e37-6645f2148813"
      },
      "execution_count": 1,
      "outputs": [
        {
          "output_type": "stream",
          "name": "stdout",
          "text": [
            "💻 使用裝置： cuda\n"
          ]
        }
      ]
    },
    {
      "cell_type": "code",
      "source": [
        "from pyspark.sql import SparkSession\n",
        "\n",
        "# 啟動 Spark，多核心模式（local[*] = 所有核心）\n",
        "spark = SparkSession.builder \\\n",
        "    .appName(\"Show Columns with Spark\") \\\n",
        "    .master(\"local[*]\") \\\n",
        "    .getOrCreate()\n",
        "\n",
        "# 讀取 CSV 檔案\n",
        "file_path = \"/content/drive/MyDrive/Colab Notebooks/HI-Large_Trans.csv\"\n",
        "df = spark.read.csv(file_path, header=True, inferSchema=True)\n",
        "\n",
        "# 顯示欄位名稱\n",
        "print(\"📌 資料欄位名稱如下：\")\n",
        "for col in df.columns:\n",
        "    print(f\" - {col}\")\n",
        "\n",
        "# 若你還想看前幾筆\n",
        "print(\"\\n📊 前五筆資料：\")\n",
        "df.show(5)\n",
        "\n",
        "# 結束 Spark（選擇性）\n",
        "spark.stop()\n"
      ],
      "metadata": {
        "colab": {
          "base_uri": "https://localhost:8080/"
        },
        "id": "6V0NOYysGQtc",
        "outputId": "ce2807f5-c31b-430c-f7c3-13e81baf2eda"
      },
      "execution_count": 5,
      "outputs": [
        {
          "output_type": "stream",
          "name": "stdout",
          "text": [
            "📌 資料欄位名稱如下：\n",
            " - Timestamp\n",
            " - From Bank\n",
            " - Account2\n",
            " - To Bank\n",
            " - Account4\n",
            " - Amount Received\n",
            " - Receiving Currency\n",
            " - Amount Paid\n",
            " - Payment Currency\n",
            " - Payment Format\n",
            " - Is Laundering\n",
            "\n",
            "📊 前五筆資料：\n",
            "+----------------+---------+---------+-------+---------+---------------+------------------+-----------+----------------+--------------+-------------+\n",
            "|       Timestamp|From Bank| Account2|To Bank| Account4|Amount Received|Receiving Currency|Amount Paid|Payment Currency|Payment Format|Is Laundering|\n",
            "+----------------+---------+---------+-------+---------+---------------+------------------+-----------+----------------+--------------+-------------+\n",
            "|2022/08/01 00:17|       20|800104D70|     20|800104D70|        6794.63|         US Dollar|    6794.63|       US Dollar|  Reinvestment|            0|\n",
            "|2022/08/01 00:02|     3196|800107150|   3196|800107150|        7739.29|         US Dollar|    7739.29|       US Dollar|  Reinvestment|            0|\n",
            "|2022/08/01 00:17|     1208|80010E430|   1208|80010E430|        1880.23|         US Dollar|    1880.23|       US Dollar|  Reinvestment|            0|\n",
            "|2022/08/01 00:03|     1208|80010E650|     20|80010E6F0|    7.3966883E7|         US Dollar|7.3966883E7|       US Dollar|        Cheque|            0|\n",
            "|2022/08/01 00:02|     1208|80010E650|     20|80010EA30|    4.5868454E7|         US Dollar|4.5868454E7|       US Dollar|        Cheque|            0|\n",
            "+----------------+---------+---------+-------+---------+---------------+------------------+-----------+----------------+--------------+-------------+\n",
            "only showing top 5 rows\n",
            "\n"
          ]
        }
      ]
    },
    {
      "cell_type": "code",
      "source": [
        "!pip install -U -q cudf-cu11 dask-cudf --extra-index-url=https://pypi.ngc.nvidia.com\n"
      ],
      "metadata": {
        "colab": {
          "base_uri": "https://localhost:8080/"
        },
        "id": "qxX81j__OPsI",
        "outputId": "5b704f9a-293e-433d-d7b6-694b096449be"
      },
      "execution_count": 1,
      "outputs": [
        {
          "output_type": "stream",
          "name": "stdout",
          "text": [
            "  Installing build dependencies ... \u001b[?25l\u001b[?25hdone\n",
            "  Getting requirements to build wheel ... \u001b[?25l\u001b[?25hdone\n",
            "  Preparing metadata (pyproject.toml) ... \u001b[?25l\u001b[?25hdone\n",
            "\u001b[31mERROR: Could not find a version that satisfies the requirement dask-cudf (from versions: none)\u001b[0m\u001b[31m\n",
            "\u001b[0m\u001b[31mERROR: No matching distribution found for dask-cudf\u001b[0m\u001b[31m\n",
            "\u001b[0m"
          ]
        }
      ]
    },
    {
      "cell_type": "code",
      "source": [
        "import pandas as pd\n",
        "import cudf\n",
        "\n",
        "def load_data_cudf_safely(\n",
        "    filepath: str,\n",
        "    usecols: list = [\"Amount Received\", \"Amount Paid\", \"Is Laundering\"],\n",
        "    nrows: int = 100_000\n",
        ") -> cudf.DataFrame:\n",
        "    \"\"\"\n",
        "    安全載入大型 CSV 並轉成 cuDF DataFrame（支援 CUDA 加速）\n",
        "\n",
        "    參數：\n",
        "    - filepath: CSV 檔案路徑\n",
        "    - usecols: 要讀取的欄位清單\n",
        "    - nrows: 只讀前 nrows 筆資料，防止 GPU 爆掉\n",
        "\n",
        "    回傳：\n",
        "    - cuDF 的 GPU DataFrame\n",
        "    \"\"\"\n",
        "    print(f\"📥 讀取中（最多 {nrows} 筆）：{filepath}\")\n",
        "    df_pd = pd.read_csv(filepath, usecols=usecols, nrows=nrows)\n",
        "    df_pd = df_pd.dropna()\n",
        "    print(f\"✅ pandas 載入完成（形狀：{df_pd.shape}），轉換為 cuDF...\")\n",
        "\n",
        "    df_cudf = cudf.DataFrame.from_pandas(df_pd)\n",
        "    print(f\"🚀 cuDF 載入完成（形狀：{df_cudf.shape}）✨\")\n",
        "\n",
        "    return df_cudf\n"
      ],
      "metadata": {
        "id": "2tSrEG-PQDul"
      },
      "execution_count": 4,
      "outputs": []
    },
    {
      "cell_type": "code",
      "source": [
        "# 📁 檔案路徑\n",
        "file_path = \"/content/drive/MyDrive/Colab Notebooks/HI-Large_Trans.csv\"\n",
        "\n",
        "# 🧠 安全載入並取得 cuDF 資料\n",
        "df = load_data_cudf_safely(file_path)\n",
        "\n",
        "# 🔍 檢查一下結果\n",
        "print(\"\\n📌 資料欄位：\", list(df.columns))\n",
        "print(df.head())\n"
      ],
      "metadata": {
        "colab": {
          "base_uri": "https://localhost:8080/"
        },
        "id": "s4uJw3PpQz9A",
        "outputId": "4c563336-137c-4ab8-c740-e5b4a824c210"
      },
      "execution_count": 5,
      "outputs": [
        {
          "output_type": "stream",
          "name": "stdout",
          "text": [
            "📥 讀取中（最多 100000 筆）：/content/drive/MyDrive/Colab Notebooks/HI-Large_Trans.csv\n",
            "✅ pandas 載入完成（形狀：(100000, 3)），轉換為 cuDF...\n",
            "🚀 cuDF 載入完成（形狀：(100000, 3)）✨\n",
            "\n",
            "📌 資料欄位： ['Amount Received', 'Amount Paid', 'Is Laundering']\n",
            "   Amount Received  Amount Paid  Is Laundering\n",
            "0          6794.63      6794.63              0\n",
            "1          7739.29      7739.29              0\n",
            "2          1880.23      1880.23              0\n",
            "3      73966883.00  73966883.00              0\n",
            "4      45868454.00  45868454.00              0\n"
          ]
        }
      ]
    },
    {
      "cell_type": "code",
      "source": [
        "import torch\n",
        "\n",
        "def cudf_to_torch(df_cudf, device=\"cuda\"):\n",
        "    \"\"\"\n",
        "    將 cuDF DataFrame 轉換為 PyTorch Tensor\n",
        "\n",
        "    傳入：\n",
        "        df_cudf：cuDF 資料（包含特徵與標籤）\n",
        "        device：'cuda' or 'cpu'\n",
        "\n",
        "    回傳：\n",
        "        X_tensor：特徵張量 (float32)\n",
        "        y_tensor：標籤張量 (float32, shape: [n, 1])\n",
        "    \"\"\"\n",
        "    X = df_cudf[[\"Amount Received\", \"Amount Paid\"]].to_cupy()\n",
        "    y = df_cudf[\"Is Laundering\"].to_cupy()\n",
        "\n",
        "    X_tensor = torch.tensor(X, dtype=torch.float32).to(device)\n",
        "    y_tensor = torch.tensor(y, dtype=torch.float32).view(-1, 1).to(device)\n",
        "\n",
        "    return X_tensor, y_tensor\n"
      ],
      "metadata": {
        "id": "41oB_0AyQ_Cg"
      },
      "execution_count": 6,
      "outputs": []
    },
    {
      "cell_type": "code",
      "source": [
        "X_tensor, y_tensor = cudf_to_torch(df, device=\"cuda\")\n",
        "\n",
        "print(f\"🎯 特徵 tensor shape: {X_tensor.shape}\")\n",
        "print(f\"🎯 標籤 tensor shape: {y_tensor.shape}\")\n"
      ],
      "metadata": {
        "colab": {
          "base_uri": "https://localhost:8080/"
        },
        "id": "IxHsE6fMRB6S",
        "outputId": "e593d620-ba98-4a77-f08b-bece9e017cd8"
      },
      "execution_count": 7,
      "outputs": [
        {
          "output_type": "stream",
          "name": "stdout",
          "text": [
            "🎯 特徵 tensor shape: torch.Size([100000, 2])\n",
            "🎯 標籤 tensor shape: torch.Size([100000, 1])\n"
          ]
        }
      ]
    },
    {
      "cell_type": "code",
      "source": [
        "from sklearn.model_selection import train_test_split\n",
        "\n",
        "# 注意：這邊先從 GPU tensor 取回 CPU numpy 才能切分\n",
        "X_np = X_tensor.cpu().numpy()\n",
        "y_np = y_tensor.cpu().numpy()\n",
        "\n",
        "X_train, X_test, y_train, y_test = train_test_split(X_np, y_np, test_size=0.3, random_state=42)\n",
        "\n",
        "# 再轉回 GPU tensor\n",
        "X_train = torch.tensor(X_train, dtype=torch.float32).to(device)\n",
        "y_train = torch.tensor(y_train, dtype=torch.float32).to(device)\n",
        "X_test  = torch.tensor(X_test, dtype=torch.float32).to(device)\n",
        "y_test  = torch.tensor(y_test, dtype=torch.float32).to(device)\n"
      ],
      "metadata": {
        "id": "89D_yACwRKSK"
      },
      "execution_count": 9,
      "outputs": []
    },
    {
      "cell_type": "markdown",
      "source": [
        "先做邏輯迴歸"
      ],
      "metadata": {
        "id": "YCk45ZR-KJc9"
      }
    },
    {
      "cell_type": "code",
      "source": [
        "import pandas as pd\n",
        "import cudf\n",
        "import torch\n",
        "import torch.nn as nn\n",
        "import torch.optim as optim\n",
        "from sklearn.model_selection import train_test_split\n",
        "from sklearn.metrics import classification_report, confusion_matrix\n",
        "from tabulate import tabulate\n",
        "from tqdm import tqdm\n",
        "import seaborn as sns\n",
        "import matplotlib.pyplot as plt\n",
        "import numpy as np\n",
        "from collections import Counter\n",
        "\n",
        "# === 1. 設定裝置 === #\n",
        "device = torch.device(\"cuda\" if torch.cuda.is_available() else \"cpu\")\n",
        "print(f\"💻 使用裝置：{device}\")\n",
        "\n",
        "# === 2. 安全讀取資料並轉換為 cuDF === #\n",
        "def load_data_cudf_safely(filepath, usecols, nrows=100000):\n",
        "    print(f\"📥 讀取中（最多 {nrows} 筆）：{filepath}\")\n",
        "    df_pd = pd.read_csv(filepath, usecols=usecols, nrows=nrows).dropna()\n",
        "    df_cudf = cudf.DataFrame.from_pandas(df_pd)\n",
        "    print(f\"🚀 cuDF 載入完成（形狀：{df_cudf.shape}）\")\n",
        "    return df_cudf\n",
        "\n",
        "file_path = \"/content/drive/MyDrive/Colab Notebooks/HI-Large_Trans.csv\"\n",
        "df = load_data_cudf_safely(file_path, [\"Amount Received\", \"Amount Paid\", \"Is Laundering\"])\n",
        "\n",
        "# === 3. cuDF ➝ Torch Tensor（GPU）=== #\n",
        "X = df[[\"Amount Received\", \"Amount Paid\"]].to_cupy()\n",
        "y = df[\"Is Laundering\"].to_cupy()\n",
        "\n",
        "# === 4. 切分資料（先轉 numpy 再轉 tensor）=== #\n",
        "X_train_np, X_test_np, y_train_np, y_test_np = train_test_split(X, y, test_size=0.3, random_state=42)\n",
        "\n",
        "X_train = torch.tensor(X_train_np, dtype=torch.float32).to(device)\n",
        "y_train = torch.tensor(y_train_np, dtype=torch.float32).view(-1, 1).to(device)\n",
        "X_test  = torch.tensor(X_test_np,  dtype=torch.float32).to(device)\n",
        "y_test  = torch.tensor(y_test_np,  dtype=torch.float32).view(-1, 1).to(device)\n",
        "\n",
        "# === 5. 建立 Logistic Regression 模型 === #\n",
        "class LogisticRegressionModel(nn.Module):\n",
        "    def __init__(self):\n",
        "        super().__init__()\n",
        "        self.linear = nn.Linear(2, 1)\n",
        "\n",
        "    def forward(self, x):\n",
        "      return self.linear(x)  # ❌ 不加 sigmoid\n",
        "\n",
        "model = LogisticRegressionModel().to(device)\n",
        "\n",
        "# === 6. 計算類別比，設定 pos_weight === #\n",
        "num_pos = torch.sum(y_train).item()\n",
        "num_neg = y_train.shape[0] - num_pos\n",
        "pos_weight = torch.tensor([num_neg / num_pos if num_pos > 0 else 1.0], device=device)\n",
        "\n",
        "# === 7. 訓練設定 === #\n",
        "criterion = nn.BCEWithLogitsLoss(pos_weight=pos_weight)\n",
        "optimizer = optim.Adam(model.parameters(), lr=0.01)\n",
        "epochs = 100\n",
        "loss_history = []\n",
        "\n",
        "print(f\"\\n🔢 類別比例：陽性={int(num_pos)}, 陰性={int(num_neg)}, 權重={pos_weight.item():.2f}\")\n",
        "print(\"🚀 開始訓練模型...\")\n",
        "\n",
        "for epoch in tqdm(range(epochs), desc=\"Training Epochs\"):\n",
        "    model.train()\n",
        "    optimizer.zero_grad()\n",
        "    output = model(X_train)\n",
        "    loss = criterion(output, y_train)\n",
        "    loss.backward()\n",
        "    optimizer.step()\n",
        "    loss_history.append(loss.item())\n",
        "\n",
        "# === 8. 評估模型 === #\n",
        "model.eval()\n",
        "with torch.no_grad():\n",
        "    y_pred_prob = model(X_test)\n",
        "    y_pred = (y_pred_prob >= 0.5).float()\n",
        "\n",
        "# 回 CPU\n",
        "y_pred_cpu = y_pred.cpu().numpy()\n",
        "y_test_cpu = y_test.cpu().numpy()\n",
        "\n",
        "# 統計\n",
        "print(\"\\n📊 測試集標籤分布：\", dict(Counter(y_test_cpu.flatten())))\n",
        "print(\"🔮 模型預測分布：\", dict(Counter(y_pred_cpu.flatten())))\n",
        "\n",
        "# 指標報告\n",
        "report = classification_report(y_test_cpu, y_pred_cpu, output_dict=True, zero_division=0)\n",
        "cm = confusion_matrix(y_test_cpu, y_pred_cpu)\n",
        "\n",
        "# 防止 KeyError\n",
        "precision = report['1']['precision'] if '1' in report else 0.0\n",
        "recall    = report['1']['recall']    if '1' in report else 0.0\n",
        "f1_score  = report['1']['f1-score']  if '1' in report else 0.0\n",
        "\n",
        "metrics = [\n",
        "    [\"Accuracy\",  f\"{report['accuracy']:.4f}\"],\n",
        "    [\"Precision\", f\"{precision:.4f}\"],\n",
        "    [\"Recall\",    f\"{recall:.4f}\"],\n",
        "    [\"F1-score\",  f\"{f1_score:.4f}\"]\n",
        "]\n",
        "\n",
        "print(\"\\n🎯 模型評估結果：\")\n",
        "print(tabulate(metrics, headers=[\"Metric\", \"Value\"], tablefmt=\"fancy_grid\"))\n",
        "\n",
        "# === 9. 畫圖 === #\n",
        "plt.figure(figsize=(6, 5))\n",
        "sns.heatmap(cm, annot=True, fmt=\"d\", cmap=\"Blues\",\n",
        "            xticklabels=[\"Pred 0\", \"Pred 1\"],\n",
        "            yticklabels=[\"True 0\", \"True 1\"])\n",
        "plt.title(\"Confusion Matrix\")\n",
        "plt.xlabel(\"Predicted\")\n",
        "plt.ylabel(\"Actual\")\n",
        "plt.tight_layout()\n",
        "plt.show()\n",
        "\n",
        "plt.figure()\n",
        "plt.plot(loss_history)\n",
        "plt.title(\"Training Loss Curve\")\n",
        "plt.xlabel(\"Epoch\")\n",
        "plt.ylabel(\"Loss\")\n",
        "plt.grid(True)\n",
        "plt.tight_layout()\n",
        "plt.show()\n"
      ],
      "metadata": {
        "colab": {
          "base_uri": "https://localhost:8080/",
          "height": 1000
        },
        "id": "2DgBZsfZpxNs",
        "outputId": "c3e8e57c-1325-4191-a3ff-b0a2fd43b459"
      },
      "execution_count": 18,
      "outputs": [
        {
          "output_type": "stream",
          "name": "stdout",
          "text": [
            "💻 使用裝置：cuda\n",
            "📥 讀取中（最多 100000 筆）：/content/drive/MyDrive/Colab Notebooks/HI-Large_Trans.csv\n",
            "🚀 cuDF 載入完成（形狀：(100000, 3)）\n",
            "\n",
            "🔢 類別比例：陽性=0, 陰性=70000, 權重=1.00\n",
            "🚀 開始訓練模型...\n"
          ]
        },
        {
          "output_type": "stream",
          "name": "stderr",
          "text": [
            "Training Epochs: 100%|██████████| 100/100 [00:00<00:00, 687.03it/s]\n"
          ]
        },
        {
          "output_type": "stream",
          "name": "stdout",
          "text": [
            "\n",
            "📊 測試集標籤分布： {np.float32(0.0): 29999, np.float32(1.0): 1}\n",
            "🔮 模型預測分布： {np.float32(0.0): 30000}\n",
            "\n",
            "🎯 模型評估結果：\n",
            "╒═══════════╤═════════╕\n",
            "│ Metric    │   Value │\n",
            "╞═══════════╪═════════╡\n",
            "│ Accuracy  │       1 │\n",
            "├───────────┼─────────┤\n",
            "│ Precision │       0 │\n",
            "├───────────┼─────────┤\n",
            "│ Recall    │       0 │\n",
            "├───────────┼─────────┤\n",
            "│ F1-score  │       0 │\n",
            "╘═══════════╧═════════╛\n"
          ]
        },
        {
          "output_type": "display_data",
          "data": {
            "text/plain": [
              "<Figure size 600x500 with 2 Axes>"
            ],
            "image/png": "[encoded data removed]"
          },
          "metadata": {}
        },
        {
          "output_type": "display_data",
          "data": {
            "text/plain": [
              "<Figure size 640x480 with 1 Axes>"
            ],
            "image/png": "[encoded data removed]"
          },
          "metadata": {}
        }
      ]
    }
  ]
}