{
 "cells": [
  {
   "cell_type": "code",
   "execution_count": 2,
   "id": "e359a0f6",
   "metadata": {},
   "outputs": [
    {
     "name": "stdout",
     "output_type": "stream",
     "text": [
      "       變數     t 值  t 檢定 p 值  Spearman ρ  Spearman p 值\n",
      "0  Amount -7.5516       0.0     -0.0019           0.0\n"
     ]
    }
   ],
   "source": [
    "import polars as pl\n",
    "from scipy.stats import ttest_ind, spearmanr\n",
    "import pandas as pd\n",
    "\n",
    "# 載入資料\n",
    "df = pl.read_csv(\"SAML-D.csv\")\n",
    "\n",
    "# Label 欄位實際名稱是 \"Is_laundering\"\n",
    "df0 = df.filter(pl.col(\"Is_laundering\") == 0)\n",
    "df1 = df.filter(pl.col(\"Is_laundering\") == 1)\n",
    "\n",
    "# 排除非數值欄位\n",
    "exclude_cols = {\n",
    "    \"Sender_account\", \"Receiver_account\", \"Time\", \"Date\",\n",
    "    \"Payment_currency\", \"Received_currency\",\n",
    "    \"Sender_bank_location\", \"Receiver_bank_location\",\n",
    "    \"Payment_type\", \"Is_laundering\", \"Laundering_type\"\n",
    "}\n",
    "numeric_cols = [\n",
    "    col for col in df.columns\n",
    "    if df[col].dtype in [pl.Float64, pl.Int64] and col not in exclude_cols\n",
    "]\n",
    "\n",
    "# 統計分析\n",
    "results = []\n",
    "for col in numeric_cols:\n",
    "    a = df0[col].to_numpy()\n",
    "    b = df1[col].to_numpy()\n",
    "    t_stat, p_t = ttest_ind(a, b, equal_var=False)\n",
    "    corr, p_s = spearmanr(df[col], df[\"Is_laundering\"])\n",
    "    results.append({\n",
    "        \"變數\": col,\n",
    "        \"t 值\": round(t_stat, 4),\n",
    "        \"t 檢定 p 值\": round(p_t, 4),\n",
    "        \"Spearman ρ\": round(corr, 4),\n",
    "        \"Spearman p 值\": round(p_s, 4),\n",
    "    })\n",
    "\n",
    "# 顯示結果\n",
    "summary_df = pd.DataFrame(results)\n",
    "print(summary_df.sort_values(by=\"t 檢定 p 值\"))\n"
   ]
  },
  {
   "cell_type": "code",
   "execution_count": 8,
   "id": "6edd1d74",
   "metadata": {},
   "outputs": [
    {
     "name": "stderr",
     "output_type": "stream",
     "text": [
      "C:\\Users\\Leon\\AppData\\Local\\Temp\\ipykernel_12324\\2790892833.py:34: DeprecationWarning: is_categorical_dtype is deprecated and will be removed in a future version. Use isinstance(dtype, pd.CategoricalDtype) instead\n",
      "  if pd.api.types.is_object_dtype(df_pd[col]) or pd.api.types.is_categorical_dtype(df_pd[col]):\n"
     ]
    },
    {
     "name": "stdout",
     "output_type": "stream",
     "text": [
      "\n",
      "📊 數值型欄位：t-test 與洗錢標籤的關聯\n",
      "╒══════════════════╤═════════╤════════╕\n",
      "│ 欄位             │    t 值 │   p 值 │\n",
      "╞══════════════════╪═════════╪════════╡\n",
      "│ Sender_account   │ -5.0271 │ 0      │\n",
      "├──────────────────┼─────────┼────────┤\n",
      "│ Receiver_account │  1.1938 │ 0.2326 │\n",
      "├──────────────────┼─────────┼────────┤\n",
      "│ Amount           │ -7.5516 │ 0      │\n",
      "╘══════════════════╧═════════╧════════╛\n",
      "\n",
      "📈 數值型欄位：Spearman 與洗錢標籤的相關\n",
      "╒══════════════════╤══════════════╤════════╕\n",
      "│ 欄位             │   Spearman ρ │   p 值 │\n",
      "╞══════════════════╪══════════════╪════════╡\n",
      "│ Sender_account   │       0.0016 │ 0      │\n",
      "├──────────────────┼──────────────┼────────┤\n",
      "│ Receiver_account │      -0.0004 │ 0.2401 │\n",
      "├──────────────────┼──────────────┼────────┤\n",
      "│ Amount           │      -0.0019 │ 0      │\n",
      "╘══════════════════╧══════════════╧════════╛\n",
      "\n",
      "🧮 類別型欄位：卡方檢定與洗錢標籤的關聯\n",
      "╒════════════════════════╤═════════════════╤════════╕\n",
      "│ 欄位                   │      Chi-square │   p 值 │\n",
      "╞════════════════════════╪═════════════════╪════════╡\n",
      "│ Time                   │ 89996.8         │      0 │\n",
      "├────────────────────────┼─────────────────┼────────┤\n",
      "│ Date                   │  1070.01        │      0 │\n",
      "├────────────────────────┼─────────────────┼────────┤\n",
      "│ Payment_currency       │  1021.49        │      0 │\n",
      "├────────────────────────┼─────────────────┼────────┤\n",
      "│ Received_currency      │  8234.4         │      0 │\n",
      "├────────────────────────┼─────────────────┼────────┤\n",
      "│ Sender_bank_location   │   329.065       │      0 │\n",
      "├────────────────────────┼─────────────────┼────────┤\n",
      "│ Receiver_bank_location │  7273.53        │      0 │\n",
      "├────────────────────────┼─────────────────┼────────┤\n",
      "│ Payment_type           │ 13831.7         │      0 │\n",
      "├────────────────────────┼─────────────────┼────────┤\n",
      "│ Laundering_type        │     9.50485e+06 │      0 │\n",
      "╘════════════════════════╧═════════════════╧════════╛\n"
     ]
    }
   ],
   "source": [
    "import polars as pl\n",
    "import pandas as pd\n",
    "from scipy.stats import ttest_ind, spearmanr, chi2_contingency\n",
    "from tabulate import tabulate\n",
    "\n",
    "# 讀取資料\n",
    "df = pl.read_csv(\"SAML-D.csv\")\n",
    "\n",
    "# 將 polars 轉為 pandas 處理統計分析\n",
    "df_pd = df.to_pandas()\n",
    "\n",
    "# 初始化結果儲存\n",
    "ttest_results = []\n",
    "corr_results = []\n",
    "chi2_results = []\n",
    "\n",
    "# 數值欄位統計：t-test + Spearman\n",
    "for col in df_pd.columns:\n",
    "    if col == \"Is_laundering\":\n",
    "        continue\n",
    "    if pd.api.types.is_numeric_dtype(df_pd[col]):\n",
    "        group0 = df_pd[df_pd[\"Is_laundering\"] == 0][col].dropna()\n",
    "        group1 = df_pd[df_pd[\"Is_laundering\"] == 1][col].dropna()\n",
    "        if len(group0) > 0 and len(group1) > 0:\n",
    "            t_stat, p_t = ttest_ind(group0, group1, equal_var=False)\n",
    "            rho, p_s = spearmanr(df_pd[col], df_pd[\"Is_laundering\"])\n",
    "            ttest_results.append([col, round(t_stat, 4), round(p_t, 4)])\n",
    "            corr_results.append([col, round(rho, 4), round(p_s, 4)])\n",
    "\n",
    "# 類別欄位統計：卡方檢定\n",
    "for col in df_pd.columns:\n",
    "    if col == \"Is_laundering\":\n",
    "        continue\n",
    "    if pd.api.types.is_object_dtype(df_pd[col]) or pd.api.types.is_categorical_dtype(df_pd[col]):\n",
    "        contingency_table = pd.crosstab(df_pd[col], df_pd[\"Is_laundering\"])\n",
    "        if contingency_table.shape[0] > 1 and contingency_table.shape[1] == 2:\n",
    "            try:\n",
    "                chi2, p, dof, _ = chi2_contingency(contingency_table)\n",
    "                chi2_results.append([col, round(chi2, 4), round(p, 4)])\n",
    "            except:\n",
    "                continue\n",
    "\n",
    "# 顯示 t-test 結果\n",
    "print(\"\\n📊 數值型欄位：t-test 與洗錢標籤的關聯\")\n",
    "print(tabulate(ttest_results, headers=[\"欄位\", \"t 值\", \"p 值\"], tablefmt=\"fancy_grid\"))\n",
    "\n",
    "# 顯示 Spearman 結果\n",
    "print(\"\\n📈 數值型欄位：Spearman 與洗錢標籤的相關\")\n",
    "print(tabulate(corr_results, headers=[\"欄位\", \"Spearman ρ\", \"p 值\"], tablefmt=\"fancy_grid\"))\n",
    "\n",
    "# 顯示卡方檢定結果\n",
    "print(\"\\n🧮 類別型欄位：卡方檢定與洗錢標籤的關聯\")\n",
    "print(tabulate(chi2_results, headers=[\"欄位\", \"Chi-square\", \"p 值\"], tablefmt=\"fancy_grid\"))\n"
   ]
  },
  {
   "cell_type": "markdown",
   "id": "fbcb03ff",
   "metadata": {},
   "source": [
    "先看欄位有啥"
   ]
  },
  {
   "cell_type": "code",
   "execution_count": 1,
   "id": "7d397a71",
   "metadata": {},
   "outputs": [
    {
     "name": "stdout",
     "output_type": "stream",
     "text": [
      "📌 資料欄位名稱：\n",
      "['Time', 'Date', 'Sender_account', 'Receiver_account', 'Amount', 'Payment_currency', 'Received_currency', 'Sender_bank_location', 'Receiver_bank_location', 'Payment_type', 'Is_laundering', 'Laundering_type']\n",
      "\n",
      "📌 各欄位型別與前 5 筆資料：\n",
      "shape: (5, 12)\n",
      "┌──────────┬───────────┬───────────┬───────────┬───┬───────────┬───────────┬───────────┬───────────┐\n",
      "│ Time     ┆ Date      ┆ Sender_ac ┆ Receiver_ ┆ … ┆ Receiver_ ┆ Payment_t ┆ Is_launde ┆ Launderin │\n",
      "│ ---      ┆ ---       ┆ count     ┆ account   ┆   ┆ bank_loca ┆ ype       ┆ ring      ┆ g_type    │\n",
      "│ str      ┆ str       ┆ ---       ┆ ---       ┆   ┆ tion      ┆ ---       ┆ ---       ┆ ---       │\n",
      "│          ┆           ┆ i64       ┆ i64       ┆   ┆ ---       ┆ str       ┆ i64       ┆ str       │\n",
      "│          ┆           ┆           ┆           ┆   ┆ str       ┆           ┆           ┆           │\n",
      "╞══════════╪═══════════╪═══════════╪═══════════╪═══╪═══════════╪═══════════╪═══════════╪═══════════╡\n",
      "│ 10:35:19 ┆ 2022-10-0 ┆ 872473195 ┆ 276935542 ┆ … ┆ UK        ┆ Cash      ┆ 0         ┆ Normal_Ca │\n",
      "│          ┆ 7         ┆ 5         ┆ 6         ┆   ┆           ┆ Deposit   ┆           ┆ sh_Deposi │\n",
      "│          ┆           ┆           ┆           ┆   ┆           ┆           ┆           ┆ ts        │\n",
      "│ 10:35:20 ┆ 2022-10-0 ┆ 149198906 ┆ 840125533 ┆ … ┆ UAE       ┆ Cross-bor ┆ 0         ┆ Normal_Fa │\n",
      "│          ┆ 7         ┆ 4         ┆ 5         ┆   ┆           ┆ der       ┆           ┆ n_Out     │\n",
      "│ 10:35:20 ┆ 2022-10-0 ┆ 287305149 ┆ 440476700 ┆ … ┆ UK        ┆ Cheque    ┆ 0         ┆ Normal_Sm │\n",
      "│          ┆ 7         ┆           ┆ 2         ┆   ┆           ┆           ┆           ┆ all_Fan_O │\n",
      "│          ┆           ┆           ┆           ┆   ┆           ┆           ┆           ┆ ut        │\n",
      "│ 10:35:21 ┆ 2022-10-0 ┆ 537665243 ┆ 960042022 ┆ … ┆ UK        ┆ ACH       ┆ 0         ┆ Normal_Fa │\n",
      "│          ┆ 7         ┆ 7         ┆ 0         ┆   ┆           ┆           ┆           ┆ n_In      │\n",
      "│ 10:35:21 ┆ 2022-10-0 ┆ 961418617 ┆ 380333697 ┆ … ┆ UK        ┆ Cash      ┆ 0         ┆ Normal_Ca │\n",
      "│          ┆ 7         ┆ 8         ┆ 2         ┆   ┆           ┆ Deposit   ┆           ┆ sh_Deposi │\n",
      "│          ┆           ┆           ┆           ┆   ┆           ┆           ┆           ┆ ts        │\n",
      "└──────────┴───────────┴───────────┴───────────┴───┴───────────┴───────────┴───────────┴───────────┘\n",
      "\n",
      "📌 欄位型別資訊：\n",
      "[String, String, Int64, Int64, Float64, String, String, String, String, String, Int64, String]\n"
     ]
    }
   ],
   "source": [
    "import polars as pl\n",
    "\n",
    "# 設定檔案路徑\n",
    "file_path = r\"C:\\Users\\Leon\\Desktop\\程式語言資料\\python\\TD-UF\\Anti Money Laundering Transaction Data (SAML-D)\\SAML-D.csv\"\n",
    "\n",
    "# 讀取 CSV 資料\n",
    "df = pl.read_csv(file_path)\n",
    "\n",
    "# 顯示所有欄位名稱\n",
    "print(\"📌 資料欄位名稱：\")\n",
    "print(df.columns)\n",
    "\n",
    "# 顯示欄位資料型別與前幾筆值\n",
    "print(\"\\n📌 各欄位型別與前 5 筆資料：\")\n",
    "print(df.head(5))\n",
    "print(\"\\n📌 欄位型別資訊：\")\n",
    "print(df.dtypes)\n"
   ]
  },
  {
   "cell_type": "markdown",
   "id": "799822b9",
   "metadata": {},
   "source": [
    "肘部法（Elbow Method）\n",
    "用不同的 k 值跑 KMeans，看「分群誤差 SSE（平方誤差和）」隨 k 的變化曲線。當 k 增加時，SSE 會下降，但下降到某個點就會趨緩，這個「彎曲處」就是建議的群數。"
   ]
  },
  {
   "cell_type": "markdown",
   "id": "398def16",
   "metadata": {},
   "source": [
    "✅ 肘部法：只用 Amount 欄位分群（Polars 加速）"
   ]
  },
  {
   "cell_type": "code",
   "execution_count": 2,
   "id": "54583860",
   "metadata": {},
   "outputs": [
    {
     "data": {
      "image/png": "[encoded data removed]",
      "text/plain": [
       "<Figure size 800x500 with 1 Axes>"
      ]
     },
     "metadata": {},
     "output_type": "display_data"
    }
   ],
   "source": [
    "import polars as pl\n",
    "import matplotlib.pyplot as plt\n",
    "from sklearn.preprocessing import StandardScaler\n",
    "from sklearn.cluster import KMeans\n",
    "\n",
    "# === 1. 讀取資料 ===\n",
    "file_path = r\"C:\\Users\\Leon\\Desktop\\程式語言資料\\python\\TD-UF\\Anti Money Laundering Transaction Data (SAML-D)\\SAML-D.csv\"\n",
    "df = pl.read_csv(file_path)\n",
    "\n",
    "# === 2. 選取並處理 'Amount' 欄位 ===\n",
    "X = df.select([\"Amount\"]).drop_nulls().to_numpy()  # Polars → NumPy 陣列\n",
    "\n",
    "# === 3. 資料標準化（避免數值大小影響） ===\n",
    "scaler = StandardScaler()\n",
    "X_scaled = scaler.fit_transform(X)\n",
    "\n",
    "# === 4. 執行肘部法 ===\n",
    "sse = []\n",
    "k_range = range(1, 11)  # 測試 1 到 10 群\n",
    "\n",
    "for k in k_range:\n",
    "    kmeans = KMeans(n_clusters=k, random_state=42)\n",
    "    kmeans.fit(X_scaled)\n",
    "    sse.append(kmeans.inertia_)  # inertia_ 為群內誤差平方和\n",
    "\n",
    "# === 5. 繪圖 ===\n",
    "plt.figure(figsize=(8, 5))\n",
    "plt.plot(k_range, sse, marker='o')\n",
    "plt.title(\"Elbow Method (using only 'Amount')\")\n",
    "plt.xlabel(\"Number of clusters (k)\")\n",
    "plt.ylabel(\"SSE (Sum of Squared Errors)\")\n",
    "plt.xticks(k_range)\n",
    "plt.grid(True)\n",
    "plt.show()\n"
   ]
  },
  {
   "cell_type": "markdown",
   "id": "b81f0447",
   "metadata": {},
   "source": [
    "✅ 任務目標：\n",
    "對使用 KMeans (k=3) 所得到的群組，畫出每個群組的金額分佈圖（boxplot），觀察交易金額如何分層。"
   ]
  },
  {
   "cell_type": "code",
   "execution_count": 8,
   "id": "f4f5d894",
   "metadata": {},
   "outputs": [
    {
     "name": "stderr",
     "output_type": "stream",
     "text": [
      "C:\\Users\\Leon\\AppData\\Local\\Temp\\ipykernel_15572\\1641033640.py:34: MatplotlibDeprecationWarning: The 'labels' parameter of boxplot() has been renamed 'tick_labels' since Matplotlib 3.9; support for the old name will be dropped in 3.11.\n",
      "  plt.boxplot(amount_lists, labels=[f\"Cluster {i}\" for i in range(3)])\n"
     ]
    },
    {
     "data": {
      "image/png": "[encoded data removed]",
      "text/plain": [
       "<Figure size 800x600 with 1 Axes>"
      ]
     },
     "metadata": {},
     "output_type": "display_data"
    }
   ],
   "source": [
    "import polars as pl\n",
    "import matplotlib.pyplot as plt\n",
    "from sklearn.preprocessing import StandardScaler\n",
    "from sklearn.cluster import KMeans\n",
    "\n",
    "# === 1. 讀取資料 ===\n",
    "file_path = r\"C:\\Users\\Leon\\Desktop\\程式語言資料\\python\\TD-UF\\Anti Money Laundering Transaction Data (SAML-D)\\SAML-D.csv\"\n",
    "df = pl.read_csv(file_path)\n",
    "\n",
    "# === 2. 選取 'Amount' 欄位並標準化 ===\n",
    "df_clean = df.select([\"Amount\"]).drop_nulls()\n",
    "X = df_clean.to_numpy()\n",
    "scaler = StandardScaler()\n",
    "X_scaled = scaler.fit_transform(X)\n",
    "\n",
    "# === 3. KMeans 分群（k=3）===\n",
    "kmeans = KMeans(n_clusters=3, random_state=42)\n",
    "labels = kmeans.fit_predict(X_scaled)\n",
    "\n",
    "# === 4. 合併分群結果 ===\n",
    "df_with_labels = df_clean.with_columns([\n",
    "    pl.Series(\"Cluster\", labels)\n",
    "])\n",
    "\n",
    "# === 5. 改用 flat group_by + filter 回圈來手動取出每群金額 ===\n",
    "amount_lists = []\n",
    "\n",
    "for i in range(3):  # k=3 群\n",
    "    amount_i = df_with_labels.filter(pl.col(\"Cluster\") == i).select(\"Amount\").to_series().to_list()\n",
    "    amount_lists.append(amount_i)\n",
    "\n",
    "# === 6. 畫 Boxplot ===\n",
    "plt.figure(figsize=(8, 6))\n",
    "plt.boxplot(amount_lists, labels=[f\"Cluster {i}\" for i in range(3)])\n",
    "plt.title(\"Amount Distribution by KMeans Cluster (k=3)\")\n",
    "plt.ylabel(\"Transaction Amount\")\n",
    "plt.xlabel(\"Cluster Group\")\n",
    "plt.grid(True)\n",
    "plt.show()\n"
   ]
  },
  {
   "cell_type": "markdown",
   "id": "13203e73",
   "metadata": {},
   "source": [
    "| 群組            | 金額分布            | 解讀                        |\n",
    "| ------------- | --------------- | ------------------------- |\n",
    "| **Cluster 0** | 全部集中在低金額，幾乎無離群值 | **小額交易群**，可能為日常轉帳或分散式交易手法 |\n",
    "| **Cluster 1** | 金額略高，有不少離群值     | **中額交易群**，可能包含公司或跨帳戶操作    |\n",
    "| **Cluster 2** | 金額大幅提升，分布廣且上限極高 | **大額群體／高風險集團**，可能是可疑交易來源  |\n"
   ]
  },
  {
   "cell_type": "markdown",
   "id": "f4034ff2",
   "metadata": {},
   "source": [
    "✅ 任務 ①：統計每個 Cluster 的金額摘要\n",
    "我們會列出每群的：\n",
    "\n",
    "筆數（count）\n",
    "\n",
    "平均金額（mean）\n",
    "\n",
    "標準差（std）\n",
    "\n",
    "最小值（min）\n",
    "\n",
    "中位數（median）\n",
    "\n",
    "最大值（max）\n",
    "\n",
    "✅ 任務 ②：將 Cluster 標籤加回原始資料，並輸出成 SAML-D_clustered.csv\n"
   ]
  },
  {
   "cell_type": "code",
   "execution_count": 10,
   "id": "978a3d61",
   "metadata": {},
   "outputs": [
    {
     "name": "stdout",
     "output_type": "stream",
     "text": [
      "📊 Cluster 統計摘要：\n",
      "shape: (3, 7)\n",
      "┌─────────┬─────────┬───────────────┬───────────────┬───────────┬────────────┬───────────┐\n",
      "│ Cluster ┆ Count   ┆ Mean          ┆ Std           ┆ Min       ┆ Median     ┆ Max       │\n",
      "│ ---     ┆ ---     ┆ ---           ┆ ---           ┆ ---       ┆ ---        ┆ ---       │\n",
      "│ i32     ┆ u32     ┆ f64           ┆ f64           ┆ f64       ┆ f64        ┆ f64       │\n",
      "╞═════════╪═════════╪═══════════════╪═══════════════╪═══════════╪════════════╪═══════════╡\n",
      "│ 0       ┆ 9489333 ┆ 8017.199716   ┆ 10010.691016  ┆ 3.73      ┆ 6103.01    ┆ 230139.97 │\n",
      "│ 1       ┆ 15488   ┆ 452371.955935 ┆ 205848.394512 ┆ 230155.77 ┆ 393558.845 ┆ 3507884.1 │\n",
      "│ 2       ┆ 31      ┆ 6.6611e6      ┆ 2.6087e6      ┆ 3.6340e6  ┆ 6.2132e6   ┆ 1.2618e7  │\n",
      "└─────────┴─────────┴───────────────┴───────────────┴───────────┴────────────┴───────────┘\n",
      "\n",
      "✅ 已成功匯出至：C:\\Users\\Leon\\Desktop\\程式語言資料\\python\\TD-UF\\Anti Money Laundering Transaction Data (SAML-D)\\非監督學習\\SAML-D_clustered.csv\n"
     ]
    }
   ],
   "source": [
    "import polars as pl\n",
    "import matplotlib.pyplot as plt\n",
    "from sklearn.preprocessing import StandardScaler\n",
    "from sklearn.cluster import KMeans\n",
    "\n",
    "# === 1. 讀取原始資料 ===\n",
    "file_path = r\"C:\\Users\\Leon\\Desktop\\程式語言資料\\python\\TD-UF\\Anti Money Laundering Transaction Data (SAML-D)\\SAML-D.csv\"\n",
    "df = pl.read_csv(file_path)\n",
    "\n",
    "# === 2. 準備標準化後的金額資料 ===\n",
    "df_amount = df.select([\"Amount\"]).drop_nulls()\n",
    "X = df_amount.to_numpy()\n",
    "scaler = StandardScaler()\n",
    "X_scaled = scaler.fit_transform(X)\n",
    "\n",
    "# === 3. 執行 KMeans（k=3） ===\n",
    "kmeans = KMeans(n_clusters=3, random_state=42)\n",
    "labels = kmeans.fit_predict(X_scaled)\n",
    "\n",
    "# === 4. 將 Cluster 結果加回原始資料（與原資料筆數一致） ===\n",
    "df_with_cluster = df.with_columns([\n",
    "    pl.Series(name=\"Cluster\", values=labels)\n",
    "])\n",
    "\n",
    "# === 5. 計算每群的金額統計摘要 ===\n",
    "stats = df_with_cluster.group_by(\"Cluster\").agg([\n",
    "    pl.count(\"Amount\").alias(\"Count\"),\n",
    "    pl.mean(\"Amount\").alias(\"Mean\"),\n",
    "    pl.std(\"Amount\").alias(\"Std\"),\n",
    "    pl.min(\"Amount\").alias(\"Min\"),\n",
    "    pl.median(\"Amount\").alias(\"Median\"),\n",
    "    pl.max(\"Amount\").alias(\"Max\")\n",
    "]).sort(\"Cluster\")\n",
    "\n",
    "# 顯示統計結果\n",
    "print(\"📊 Cluster 統計摘要：\")\n",
    "print(stats)\n",
    "\n",
    "# === 6. 匯出含 Cluster 的資料表 ===\n",
    "output_path = r\"C:\\Users\\Leon\\Desktop\\程式語言資料\\python\\TD-UF\\Anti Money Laundering Transaction Data (SAML-D)\\非監督學習\\SAML-D_clustered.csv\"\n",
    "df_with_cluster.write_csv(output_path)\n",
    "print(f\"\\n✅ 已成功匯出至：{output_path}\")\n"
   ]
  },
  {
   "cell_type": "markdown",
   "id": "a3f20c4b",
   "metadata": {},
   "source": [
    "對 Cluster 2 中的帳戶進行名單列出（Sender / Receiver）\n",
    "→ 找出那些 31 筆交易是哪幾個帳戶搞的\n"
   ]
  },
  {
   "cell_type": "code",
   "execution_count": 11,
   "id": "0fa9bb27",
   "metadata": {},
   "outputs": [
    {
     "name": "stdout",
     "output_type": "stream",
     "text": [
      "shape: (31, 8)\n",
      "┌────────────┬──────────┬────────────┬────────────┬──────────┬────────────┬────────────┬───────────┐\n",
      "│ Date       ┆ Time     ┆ Sender_acc ┆ Receiver_a ┆ Amount   ┆ Payment_ty ┆ Sender_ban ┆ Receiver_ │\n",
      "│ ---        ┆ ---      ┆ ount       ┆ ccount     ┆ ---      ┆ pe         ┆ k_location ┆ bank_loca │\n",
      "│ str        ┆ str      ┆ ---        ┆ ---        ┆ f64      ┆ ---        ┆ ---        ┆ tion      │\n",
      "│            ┆          ┆ i64        ┆ i64        ┆          ┆ str        ┆ str        ┆ ---       │\n",
      "│            ┆          ┆            ┆            ┆          ┆            ┆            ┆ str       │\n",
      "╞════════════╪══════════╪════════════╪════════════╪══════════╪════════════╪════════════╪═══════════╡\n",
      "│ 2022-10-12 ┆ 16:12:51 ┆ 5057689301 ┆ 3267846600 ┆ 6.2139e6 ┆ Credit     ┆ UK         ┆ UK        │\n",
      "│            ┆          ┆            ┆            ┆          ┆ card       ┆            ┆           │\n",
      "│ 2022-11-05 ┆ 23:51:26 ┆ 4197215987 ┆ 7510608716 ┆ 5.9712e6 ┆ Debit card ┆ UK         ┆ UK        │\n",
      "│ 2022-11-09 ┆ 17:39:28 ┆ 6498511324 ┆ 3990508657 ┆ 4.2407e6 ┆ Debit card ┆ UK         ┆ UK        │\n",
      "│ 2022-11-13 ┆ 17:39:28 ┆ 8561558553 ┆ 6498511324 ┆ 9.3481e6 ┆ Debit card ┆ UK         ┆ UK        │\n",
      "│ 2022-11-23 ┆ 09:46:18 ┆ 5061861850 ┆ 520713149  ┆ 4.1983e6 ┆ ACH        ┆ UK         ┆ UK        │\n",
      "│ …          ┆ …        ┆ …          ┆ …          ┆ …        ┆ …          ┆ …          ┆ …         │\n",
      "│ 2023-06-25 ┆ 13:11:57 ┆ 3106127807 ┆ 2358122027 ┆ 6.3477e6 ┆ Cheque     ┆ UK         ┆ UK        │\n",
      "│ 2023-07-01 ┆ 19:39:41 ┆ 9911799503 ┆ 648937549  ┆ 4.7091e6 ┆ Cheque     ┆ UK         ┆ UK        │\n",
      "│ 2023-07-05 ┆ 19:39:41 ┆ 2309271621 ┆ 9911799503 ┆ 1.2359e7 ┆ Cheque     ┆ UK         ┆ UK        │\n",
      "│ 2023-08-13 ┆ 09:47:53 ┆ 6674085239 ┆ 5665240975 ┆ 6.2132e6 ┆ Credit     ┆ UK         ┆ UK        │\n",
      "│            ┆          ┆            ┆            ┆          ┆ card       ┆            ┆           │\n",
      "│ 2023-08-20 ┆ 06:55:37 ┆ 4917020979 ┆ 1285232494 ┆ 9.2164e6 ┆ Debit card ┆ UK         ┆ UK        │\n",
      "└────────────┴──────────┴────────────┴────────────┴──────────┴────────────┴────────────┴───────────┘\n"
     ]
    }
   ],
   "source": [
    "import polars as pl\n",
    "from pathlib import Path\n",
    "\n",
    "# === 1. 設定檔案路徑 ===\n",
    "csv_path = Path(r\"C:\\Users\\Leon\\Desktop\\程式語言資料\\python\\TD-UF\\Anti Money Laundering Transaction Data (SAML-D)\\非監督學習\\SAML-D_clustered.csv\")\n",
    "\n",
    "# === 2. 讀取資料 ===\n",
    "df = pl.read_csv(csv_path)\n",
    "\n",
    "# === 3. 篩選 Cluster = 2（高風險交易群）===\n",
    "cluster2_df = df.filter(pl.col(\"Cluster\") == 2)\n",
    "\n",
    "# === 4. 擷取重要欄位（帳戶、金額、支付方式與地點）===\n",
    "result = cluster2_df.select([\n",
    "    \"Date\", \"Time\",\n",
    "    \"Sender_account\", \"Receiver_account\",\n",
    "    \"Amount\", \"Payment_type\",\n",
    "    \"Sender_bank_location\", \"Receiver_bank_location\"\n",
    "])\n",
    "\n",
    "# === 5. 顯示或存檔結果（可選）===\n",
    "print(result)\n",
    "\n",
    "# 若想存成 CSV 可加入以下一行：\n",
    "result.write_csv(r\"C:\\Users\\Leon\\Desktop\\程式語言資料\\python\\TD-UF\\Anti Money Laundering Transaction Data (SAML-D)\\非監督學習\\Cluster2_高風險交易清單.csv\")\n"
   ]
  },
  {
   "cell_type": "code",
   "execution_count": 16,
   "id": "e9b78fcc",
   "metadata": {},
   "outputs": [
    {
     "name": "stdout",
     "output_type": "stream",
     "text": [
      "📄 原始對上清單共 31 筆\n",
      "🚨 其中被標記為洗錢：31 筆\n",
      "🎯 命中率：100.00%\n"
     ]
    }
   ],
   "source": [
    "import polars as pl\n",
    "\n",
    "# === 1. 載入資料 ===\n",
    "raw_df = pl.read_csv(r\"C:\\Users\\Leon\\Desktop\\程式語言資料\\python\\TD-UF\\Anti Money Laundering Transaction Data (SAML-D)\\SAML-D.csv\")\n",
    "cluster2_df = pl.read_csv(r\"C:\\Users\\Leon\\Desktop\\程式語言資料\\python\\TD-UF\\Anti Money Laundering Transaction Data (SAML-D)\\非監督學習\\Cluster2_高風險交易清單.csv\")\n",
    "\n",
    "# === 2. 合併比對條件：用 Sender、Receiver、Amount、Date、Time 當關鍵欄位 ===\n",
    "# （⚠️ 因為沒有明確交易 ID，我們用這些欄位做模糊連結）\n",
    "merged = cluster2_df.join(\n",
    "    raw_df.select([\"Time\", \"Date\", \"Sender_account\", \"Receiver_account\", \"Amount\", \"Is_laundering\"]),\n",
    "    on=[\"Time\", \"Date\", \"Sender_account\", \"Receiver_account\", \"Amount\"],\n",
    "    how=\"inner\"\n",
    ")\n",
    "\n",
    "# === 3. 計算中獎筆數 ===\n",
    "total = merged.shape[0]\n",
    "fraud = merged.filter(pl.col(\"Is_laundering\") == 1).shape[0]\n",
    "ratio = fraud / total if total > 0 else 0\n",
    "\n",
    "# === 4. 印出結果 ===\n",
    "print(f\"📄 原始對上清單共 {total} 筆\")\n",
    "print(f\"🚨 其中被標記為洗錢：{fraud} 筆\")\n",
    "print(f\"🎯 命中率：{ratio:.2%}\")\n"
   ]
  }
 ],
 "metadata": {
  "kernelspec": {
   "display_name": "Python 3",
   "language": "python",
   "name": "python3"
  },
  "language_info": {
   "codemirror_mode": {
    "name": "ipython",
    "version": 3
   },
   "file_extension": ".py",
   "mimetype": "text/x-python",
   "name": "python",
   "nbconvert_exporter": "python",
   "pygments_lexer": "ipython3",
   "version": "3.12.1"
  }
 },
 "nbformat": 4,
 "nbformat_minor": 5
}
